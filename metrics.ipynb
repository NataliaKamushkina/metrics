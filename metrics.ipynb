{
 "cells": [
  {
   "cell_type": "code",
   "execution_count": 21,
   "metadata": {},
   "outputs": [
    {
     "data": {
      "application/vnd.jupyter.widget-view+json": {
       "model_id": "19a59dbf10d04b77a75e3641444880e8",
       "version_major": 2,
       "version_minor": 0
      },
      "text/plain": [
       "HBox(children=(HTML(value=''), FloatProgress(value=1.0, bar_style='info', layout=Layout(width='20px'), max=1.0…"
      ]
     },
     "metadata": {},
     "output_type": "display_data"
    },
    {
     "name": "stdout",
     "output_type": "stream",
     "text": [
      "\n",
      "Populating the interactive namespace from numpy and matplotlib\n"
     ]
    }
   ],
   "source": [
    "import pandas as pd \n",
    "import numpy as np\n",
    "from tqdm.notebook import tqdm \n",
    "tqdm().pandas() \n",
    "pd.options.display.max_columns = 1000 \n",
    "%pylab inline"
   ]
  },
  {
   "cell_type": "code",
   "execution_count": 22,
   "metadata": {},
   "outputs": [],
   "source": [
    "figsize(10, 7)"
   ]
  },
  {
   "cell_type": "code",
   "execution_count": null,
   "metadata": {},
   "outputs": [],
   "source": [
    "from sklearn.linear_model import LogisticRegression, LinearRegression\n",
    "from sklearn import metrics "
   ]
  },
  {
   "cell_type": "code",
   "execution_count": 9,
   "metadata": {},
   "outputs": [],
   "source": [
    "df_train = pd.read_csv('data.csv', nrows=100000)"
   ]
  },
  {
   "cell_type": "code",
   "execution_count": 10,
   "metadata": {},
   "outputs": [
    {
     "data": {
      "text/html": [
       "<div>\n",
       "<style scoped>\n",
       "    .dataframe tbody tr th:only-of-type {\n",
       "        vertical-align: middle;\n",
       "    }\n",
       "\n",
       "    .dataframe tbody tr th {\n",
       "        vertical-align: top;\n",
       "    }\n",
       "\n",
       "    .dataframe thead th {\n",
       "        text-align: right;\n",
       "    }\n",
       "</style>\n",
       "<table border=\"1\" class=\"dataframe\">\n",
       "  <thead>\n",
       "    <tr style=\"text-align: right;\">\n",
       "      <th></th>\n",
       "      <th>Unnamed: 0</th>\n",
       "      <th>ID</th>\n",
       "      <th>Name</th>\n",
       "      <th>Age</th>\n",
       "      <th>Photo</th>\n",
       "      <th>Nationality</th>\n",
       "      <th>Flag</th>\n",
       "      <th>Overall</th>\n",
       "      <th>Potential</th>\n",
       "      <th>Club</th>\n",
       "      <th>Club Logo</th>\n",
       "      <th>Value</th>\n",
       "      <th>Wage</th>\n",
       "      <th>Special</th>\n",
       "      <th>Preferred Foot</th>\n",
       "      <th>International Reputation</th>\n",
       "      <th>Weak Foot</th>\n",
       "      <th>Skill Moves</th>\n",
       "      <th>Work Rate</th>\n",
       "      <th>Body Type</th>\n",
       "      <th>Real Face</th>\n",
       "      <th>Position</th>\n",
       "      <th>Jersey Number</th>\n",
       "      <th>Joined</th>\n",
       "      <th>Loaned From</th>\n",
       "      <th>Contract Valid Until</th>\n",
       "      <th>Height</th>\n",
       "      <th>Weight</th>\n",
       "      <th>LS</th>\n",
       "      <th>ST</th>\n",
       "      <th>RS</th>\n",
       "      <th>LW</th>\n",
       "      <th>LF</th>\n",
       "      <th>CF</th>\n",
       "      <th>RF</th>\n",
       "      <th>RW</th>\n",
       "      <th>LAM</th>\n",
       "      <th>CAM</th>\n",
       "      <th>RAM</th>\n",
       "      <th>LM</th>\n",
       "      <th>LCM</th>\n",
       "      <th>CM</th>\n",
       "      <th>RCM</th>\n",
       "      <th>RM</th>\n",
       "      <th>LWB</th>\n",
       "      <th>LDM</th>\n",
       "      <th>CDM</th>\n",
       "      <th>RDM</th>\n",
       "      <th>RWB</th>\n",
       "      <th>LB</th>\n",
       "      <th>LCB</th>\n",
       "      <th>CB</th>\n",
       "      <th>RCB</th>\n",
       "      <th>RB</th>\n",
       "      <th>Crossing</th>\n",
       "      <th>Finishing</th>\n",
       "      <th>HeadingAccuracy</th>\n",
       "      <th>ShortPassing</th>\n",
       "      <th>Volleys</th>\n",
       "      <th>Dribbling</th>\n",
       "      <th>Curve</th>\n",
       "      <th>FKAccuracy</th>\n",
       "      <th>LongPassing</th>\n",
       "      <th>BallControl</th>\n",
       "      <th>Acceleration</th>\n",
       "      <th>SprintSpeed</th>\n",
       "      <th>Agility</th>\n",
       "      <th>Reactions</th>\n",
       "      <th>Balance</th>\n",
       "      <th>ShotPower</th>\n",
       "      <th>Jumping</th>\n",
       "      <th>Stamina</th>\n",
       "      <th>Strength</th>\n",
       "      <th>LongShots</th>\n",
       "      <th>Aggression</th>\n",
       "      <th>Interceptions</th>\n",
       "      <th>Positioning</th>\n",
       "      <th>Vision</th>\n",
       "      <th>Penalties</th>\n",
       "      <th>Composure</th>\n",
       "      <th>Marking</th>\n",
       "      <th>StandingTackle</th>\n",
       "      <th>SlidingTackle</th>\n",
       "      <th>GKDiving</th>\n",
       "      <th>GKHandling</th>\n",
       "      <th>GKKicking</th>\n",
       "      <th>GKPositioning</th>\n",
       "      <th>GKReflexes</th>\n",
       "      <th>Release Clause</th>\n",
       "    </tr>\n",
       "  </thead>\n",
       "  <tbody>\n",
       "    <tr>\n",
       "      <th>0</th>\n",
       "      <td>0</td>\n",
       "      <td>158023</td>\n",
       "      <td>L. Messi</td>\n",
       "      <td>31</td>\n",
       "      <td>https://cdn.sofifa.org/players/4/19/158023.png</td>\n",
       "      <td>Argentina</td>\n",
       "      <td>https://cdn.sofifa.org/flags/52.png</td>\n",
       "      <td>94</td>\n",
       "      <td>94</td>\n",
       "      <td>FC Barcelona</td>\n",
       "      <td>https://cdn.sofifa.org/teams/2/light/241.png</td>\n",
       "      <td>€110.5M</td>\n",
       "      <td>€565K</td>\n",
       "      <td>2202</td>\n",
       "      <td>Left</td>\n",
       "      <td>5.0</td>\n",
       "      <td>4.0</td>\n",
       "      <td>4.0</td>\n",
       "      <td>Medium/ Medium</td>\n",
       "      <td>Messi</td>\n",
       "      <td>Yes</td>\n",
       "      <td>RF</td>\n",
       "      <td>10.0</td>\n",
       "      <td>Jul 1, 2004</td>\n",
       "      <td>NaN</td>\n",
       "      <td>2021</td>\n",
       "      <td>5'7</td>\n",
       "      <td>159lbs</td>\n",
       "      <td>88+2</td>\n",
       "      <td>88+2</td>\n",
       "      <td>88+2</td>\n",
       "      <td>92+2</td>\n",
       "      <td>93+2</td>\n",
       "      <td>93+2</td>\n",
       "      <td>93+2</td>\n",
       "      <td>92+2</td>\n",
       "      <td>93+2</td>\n",
       "      <td>93+2</td>\n",
       "      <td>93+2</td>\n",
       "      <td>91+2</td>\n",
       "      <td>84+2</td>\n",
       "      <td>84+2</td>\n",
       "      <td>84+2</td>\n",
       "      <td>91+2</td>\n",
       "      <td>64+2</td>\n",
       "      <td>61+2</td>\n",
       "      <td>61+2</td>\n",
       "      <td>61+2</td>\n",
       "      <td>64+2</td>\n",
       "      <td>59+2</td>\n",
       "      <td>47+2</td>\n",
       "      <td>47+2</td>\n",
       "      <td>47+2</td>\n",
       "      <td>59+2</td>\n",
       "      <td>84.0</td>\n",
       "      <td>95.0</td>\n",
       "      <td>70.0</td>\n",
       "      <td>90.0</td>\n",
       "      <td>86.0</td>\n",
       "      <td>97.0</td>\n",
       "      <td>93.0</td>\n",
       "      <td>94.0</td>\n",
       "      <td>87.0</td>\n",
       "      <td>96.0</td>\n",
       "      <td>91.0</td>\n",
       "      <td>86.0</td>\n",
       "      <td>91.0</td>\n",
       "      <td>95.0</td>\n",
       "      <td>95.0</td>\n",
       "      <td>85.0</td>\n",
       "      <td>68.0</td>\n",
       "      <td>72.0</td>\n",
       "      <td>59.0</td>\n",
       "      <td>94.0</td>\n",
       "      <td>48.0</td>\n",
       "      <td>22.0</td>\n",
       "      <td>94.0</td>\n",
       "      <td>94.0</td>\n",
       "      <td>75.0</td>\n",
       "      <td>96.0</td>\n",
       "      <td>33.0</td>\n",
       "      <td>28.0</td>\n",
       "      <td>26.0</td>\n",
       "      <td>6.0</td>\n",
       "      <td>11.0</td>\n",
       "      <td>15.0</td>\n",
       "      <td>14.0</td>\n",
       "      <td>8.0</td>\n",
       "      <td>€226.5M</td>\n",
       "    </tr>\n",
       "    <tr>\n",
       "      <th>1</th>\n",
       "      <td>1</td>\n",
       "      <td>20801</td>\n",
       "      <td>Cristiano Ronaldo</td>\n",
       "      <td>33</td>\n",
       "      <td>https://cdn.sofifa.org/players/4/19/20801.png</td>\n",
       "      <td>Portugal</td>\n",
       "      <td>https://cdn.sofifa.org/flags/38.png</td>\n",
       "      <td>94</td>\n",
       "      <td>94</td>\n",
       "      <td>Juventus</td>\n",
       "      <td>https://cdn.sofifa.org/teams/2/light/45.png</td>\n",
       "      <td>€77M</td>\n",
       "      <td>€405K</td>\n",
       "      <td>2228</td>\n",
       "      <td>Right</td>\n",
       "      <td>5.0</td>\n",
       "      <td>4.0</td>\n",
       "      <td>5.0</td>\n",
       "      <td>High/ Low</td>\n",
       "      <td>C. Ronaldo</td>\n",
       "      <td>Yes</td>\n",
       "      <td>ST</td>\n",
       "      <td>7.0</td>\n",
       "      <td>Jul 10, 2018</td>\n",
       "      <td>NaN</td>\n",
       "      <td>2022</td>\n",
       "      <td>6'2</td>\n",
       "      <td>183lbs</td>\n",
       "      <td>91+3</td>\n",
       "      <td>91+3</td>\n",
       "      <td>91+3</td>\n",
       "      <td>89+3</td>\n",
       "      <td>90+3</td>\n",
       "      <td>90+3</td>\n",
       "      <td>90+3</td>\n",
       "      <td>89+3</td>\n",
       "      <td>88+3</td>\n",
       "      <td>88+3</td>\n",
       "      <td>88+3</td>\n",
       "      <td>88+3</td>\n",
       "      <td>81+3</td>\n",
       "      <td>81+3</td>\n",
       "      <td>81+3</td>\n",
       "      <td>88+3</td>\n",
       "      <td>65+3</td>\n",
       "      <td>61+3</td>\n",
       "      <td>61+3</td>\n",
       "      <td>61+3</td>\n",
       "      <td>65+3</td>\n",
       "      <td>61+3</td>\n",
       "      <td>53+3</td>\n",
       "      <td>53+3</td>\n",
       "      <td>53+3</td>\n",
       "      <td>61+3</td>\n",
       "      <td>84.0</td>\n",
       "      <td>94.0</td>\n",
       "      <td>89.0</td>\n",
       "      <td>81.0</td>\n",
       "      <td>87.0</td>\n",
       "      <td>88.0</td>\n",
       "      <td>81.0</td>\n",
       "      <td>76.0</td>\n",
       "      <td>77.0</td>\n",
       "      <td>94.0</td>\n",
       "      <td>89.0</td>\n",
       "      <td>91.0</td>\n",
       "      <td>87.0</td>\n",
       "      <td>96.0</td>\n",
       "      <td>70.0</td>\n",
       "      <td>95.0</td>\n",
       "      <td>95.0</td>\n",
       "      <td>88.0</td>\n",
       "      <td>79.0</td>\n",
       "      <td>93.0</td>\n",
       "      <td>63.0</td>\n",
       "      <td>29.0</td>\n",
       "      <td>95.0</td>\n",
       "      <td>82.0</td>\n",
       "      <td>85.0</td>\n",
       "      <td>95.0</td>\n",
       "      <td>28.0</td>\n",
       "      <td>31.0</td>\n",
       "      <td>23.0</td>\n",
       "      <td>7.0</td>\n",
       "      <td>11.0</td>\n",
       "      <td>15.0</td>\n",
       "      <td>14.0</td>\n",
       "      <td>11.0</td>\n",
       "      <td>€127.1M</td>\n",
       "    </tr>\n",
       "    <tr>\n",
       "      <th>2</th>\n",
       "      <td>2</td>\n",
       "      <td>190871</td>\n",
       "      <td>Neymar Jr</td>\n",
       "      <td>26</td>\n",
       "      <td>https://cdn.sofifa.org/players/4/19/190871.png</td>\n",
       "      <td>Brazil</td>\n",
       "      <td>https://cdn.sofifa.org/flags/54.png</td>\n",
       "      <td>92</td>\n",
       "      <td>93</td>\n",
       "      <td>Paris Saint-Germain</td>\n",
       "      <td>https://cdn.sofifa.org/teams/2/light/73.png</td>\n",
       "      <td>€118.5M</td>\n",
       "      <td>€290K</td>\n",
       "      <td>2143</td>\n",
       "      <td>Right</td>\n",
       "      <td>5.0</td>\n",
       "      <td>5.0</td>\n",
       "      <td>5.0</td>\n",
       "      <td>High/ Medium</td>\n",
       "      <td>Neymar</td>\n",
       "      <td>Yes</td>\n",
       "      <td>LW</td>\n",
       "      <td>10.0</td>\n",
       "      <td>Aug 3, 2017</td>\n",
       "      <td>NaN</td>\n",
       "      <td>2022</td>\n",
       "      <td>5'9</td>\n",
       "      <td>150lbs</td>\n",
       "      <td>84+3</td>\n",
       "      <td>84+3</td>\n",
       "      <td>84+3</td>\n",
       "      <td>89+3</td>\n",
       "      <td>89+3</td>\n",
       "      <td>89+3</td>\n",
       "      <td>89+3</td>\n",
       "      <td>89+3</td>\n",
       "      <td>89+3</td>\n",
       "      <td>89+3</td>\n",
       "      <td>89+3</td>\n",
       "      <td>88+3</td>\n",
       "      <td>81+3</td>\n",
       "      <td>81+3</td>\n",
       "      <td>81+3</td>\n",
       "      <td>88+3</td>\n",
       "      <td>65+3</td>\n",
       "      <td>60+3</td>\n",
       "      <td>60+3</td>\n",
       "      <td>60+3</td>\n",
       "      <td>65+3</td>\n",
       "      <td>60+3</td>\n",
       "      <td>47+3</td>\n",
       "      <td>47+3</td>\n",
       "      <td>47+3</td>\n",
       "      <td>60+3</td>\n",
       "      <td>79.0</td>\n",
       "      <td>87.0</td>\n",
       "      <td>62.0</td>\n",
       "      <td>84.0</td>\n",
       "      <td>84.0</td>\n",
       "      <td>96.0</td>\n",
       "      <td>88.0</td>\n",
       "      <td>87.0</td>\n",
       "      <td>78.0</td>\n",
       "      <td>95.0</td>\n",
       "      <td>94.0</td>\n",
       "      <td>90.0</td>\n",
       "      <td>96.0</td>\n",
       "      <td>94.0</td>\n",
       "      <td>84.0</td>\n",
       "      <td>80.0</td>\n",
       "      <td>61.0</td>\n",
       "      <td>81.0</td>\n",
       "      <td>49.0</td>\n",
       "      <td>82.0</td>\n",
       "      <td>56.0</td>\n",
       "      <td>36.0</td>\n",
       "      <td>89.0</td>\n",
       "      <td>87.0</td>\n",
       "      <td>81.0</td>\n",
       "      <td>94.0</td>\n",
       "      <td>27.0</td>\n",
       "      <td>24.0</td>\n",
       "      <td>33.0</td>\n",
       "      <td>9.0</td>\n",
       "      <td>9.0</td>\n",
       "      <td>15.0</td>\n",
       "      <td>15.0</td>\n",
       "      <td>11.0</td>\n",
       "      <td>€228.1M</td>\n",
       "    </tr>\n",
       "    <tr>\n",
       "      <th>3</th>\n",
       "      <td>3</td>\n",
       "      <td>193080</td>\n",
       "      <td>De Gea</td>\n",
       "      <td>27</td>\n",
       "      <td>https://cdn.sofifa.org/players/4/19/193080.png</td>\n",
       "      <td>Spain</td>\n",
       "      <td>https://cdn.sofifa.org/flags/45.png</td>\n",
       "      <td>91</td>\n",
       "      <td>93</td>\n",
       "      <td>Manchester United</td>\n",
       "      <td>https://cdn.sofifa.org/teams/2/light/11.png</td>\n",
       "      <td>€72M</td>\n",
       "      <td>€260K</td>\n",
       "      <td>1471</td>\n",
       "      <td>Right</td>\n",
       "      <td>4.0</td>\n",
       "      <td>3.0</td>\n",
       "      <td>1.0</td>\n",
       "      <td>Medium/ Medium</td>\n",
       "      <td>Lean</td>\n",
       "      <td>Yes</td>\n",
       "      <td>GK</td>\n",
       "      <td>1.0</td>\n",
       "      <td>Jul 1, 2011</td>\n",
       "      <td>NaN</td>\n",
       "      <td>2020</td>\n",
       "      <td>6'4</td>\n",
       "      <td>168lbs</td>\n",
       "      <td>NaN</td>\n",
       "      <td>NaN</td>\n",
       "      <td>NaN</td>\n",
       "      <td>NaN</td>\n",
       "      <td>NaN</td>\n",
       "      <td>NaN</td>\n",
       "      <td>NaN</td>\n",
       "      <td>NaN</td>\n",
       "      <td>NaN</td>\n",
       "      <td>NaN</td>\n",
       "      <td>NaN</td>\n",
       "      <td>NaN</td>\n",
       "      <td>NaN</td>\n",
       "      <td>NaN</td>\n",
       "      <td>NaN</td>\n",
       "      <td>NaN</td>\n",
       "      <td>NaN</td>\n",
       "      <td>NaN</td>\n",
       "      <td>NaN</td>\n",
       "      <td>NaN</td>\n",
       "      <td>NaN</td>\n",
       "      <td>NaN</td>\n",
       "      <td>NaN</td>\n",
       "      <td>NaN</td>\n",
       "      <td>NaN</td>\n",
       "      <td>NaN</td>\n",
       "      <td>17.0</td>\n",
       "      <td>13.0</td>\n",
       "      <td>21.0</td>\n",
       "      <td>50.0</td>\n",
       "      <td>13.0</td>\n",
       "      <td>18.0</td>\n",
       "      <td>21.0</td>\n",
       "      <td>19.0</td>\n",
       "      <td>51.0</td>\n",
       "      <td>42.0</td>\n",
       "      <td>57.0</td>\n",
       "      <td>58.0</td>\n",
       "      <td>60.0</td>\n",
       "      <td>90.0</td>\n",
       "      <td>43.0</td>\n",
       "      <td>31.0</td>\n",
       "      <td>67.0</td>\n",
       "      <td>43.0</td>\n",
       "      <td>64.0</td>\n",
       "      <td>12.0</td>\n",
       "      <td>38.0</td>\n",
       "      <td>30.0</td>\n",
       "      <td>12.0</td>\n",
       "      <td>68.0</td>\n",
       "      <td>40.0</td>\n",
       "      <td>68.0</td>\n",
       "      <td>15.0</td>\n",
       "      <td>21.0</td>\n",
       "      <td>13.0</td>\n",
       "      <td>90.0</td>\n",
       "      <td>85.0</td>\n",
       "      <td>87.0</td>\n",
       "      <td>88.0</td>\n",
       "      <td>94.0</td>\n",
       "      <td>€138.6M</td>\n",
       "    </tr>\n",
       "    <tr>\n",
       "      <th>4</th>\n",
       "      <td>4</td>\n",
       "      <td>192985</td>\n",
       "      <td>K. De Bruyne</td>\n",
       "      <td>27</td>\n",
       "      <td>https://cdn.sofifa.org/players/4/19/192985.png</td>\n",
       "      <td>Belgium</td>\n",
       "      <td>https://cdn.sofifa.org/flags/7.png</td>\n",
       "      <td>91</td>\n",
       "      <td>92</td>\n",
       "      <td>Manchester City</td>\n",
       "      <td>https://cdn.sofifa.org/teams/2/light/10.png</td>\n",
       "      <td>€102M</td>\n",
       "      <td>€355K</td>\n",
       "      <td>2281</td>\n",
       "      <td>Right</td>\n",
       "      <td>4.0</td>\n",
       "      <td>5.0</td>\n",
       "      <td>4.0</td>\n",
       "      <td>High/ High</td>\n",
       "      <td>Normal</td>\n",
       "      <td>Yes</td>\n",
       "      <td>RCM</td>\n",
       "      <td>7.0</td>\n",
       "      <td>Aug 30, 2015</td>\n",
       "      <td>NaN</td>\n",
       "      <td>2023</td>\n",
       "      <td>5'11</td>\n",
       "      <td>154lbs</td>\n",
       "      <td>82+3</td>\n",
       "      <td>82+3</td>\n",
       "      <td>82+3</td>\n",
       "      <td>87+3</td>\n",
       "      <td>87+3</td>\n",
       "      <td>87+3</td>\n",
       "      <td>87+3</td>\n",
       "      <td>87+3</td>\n",
       "      <td>88+3</td>\n",
       "      <td>88+3</td>\n",
       "      <td>88+3</td>\n",
       "      <td>88+3</td>\n",
       "      <td>87+3</td>\n",
       "      <td>87+3</td>\n",
       "      <td>87+3</td>\n",
       "      <td>88+3</td>\n",
       "      <td>77+3</td>\n",
       "      <td>77+3</td>\n",
       "      <td>77+3</td>\n",
       "      <td>77+3</td>\n",
       "      <td>77+3</td>\n",
       "      <td>73+3</td>\n",
       "      <td>66+3</td>\n",
       "      <td>66+3</td>\n",
       "      <td>66+3</td>\n",
       "      <td>73+3</td>\n",
       "      <td>93.0</td>\n",
       "      <td>82.0</td>\n",
       "      <td>55.0</td>\n",
       "      <td>92.0</td>\n",
       "      <td>82.0</td>\n",
       "      <td>86.0</td>\n",
       "      <td>85.0</td>\n",
       "      <td>83.0</td>\n",
       "      <td>91.0</td>\n",
       "      <td>91.0</td>\n",
       "      <td>78.0</td>\n",
       "      <td>76.0</td>\n",
       "      <td>79.0</td>\n",
       "      <td>91.0</td>\n",
       "      <td>77.0</td>\n",
       "      <td>91.0</td>\n",
       "      <td>63.0</td>\n",
       "      <td>90.0</td>\n",
       "      <td>75.0</td>\n",
       "      <td>91.0</td>\n",
       "      <td>76.0</td>\n",
       "      <td>61.0</td>\n",
       "      <td>87.0</td>\n",
       "      <td>94.0</td>\n",
       "      <td>79.0</td>\n",
       "      <td>88.0</td>\n",
       "      <td>68.0</td>\n",
       "      <td>58.0</td>\n",
       "      <td>51.0</td>\n",
       "      <td>15.0</td>\n",
       "      <td>13.0</td>\n",
       "      <td>5.0</td>\n",
       "      <td>10.0</td>\n",
       "      <td>13.0</td>\n",
       "      <td>€196.4M</td>\n",
       "    </tr>\n",
       "  </tbody>\n",
       "</table>\n",
       "</div>"
      ],
      "text/plain": [
       "   Unnamed: 0      ID               Name  Age  \\\n",
       "0           0  158023           L. Messi   31   \n",
       "1           1   20801  Cristiano Ronaldo   33   \n",
       "2           2  190871          Neymar Jr   26   \n",
       "3           3  193080             De Gea   27   \n",
       "4           4  192985       K. De Bruyne   27   \n",
       "\n",
       "                                            Photo Nationality  \\\n",
       "0  https://cdn.sofifa.org/players/4/19/158023.png   Argentina   \n",
       "1   https://cdn.sofifa.org/players/4/19/20801.png    Portugal   \n",
       "2  https://cdn.sofifa.org/players/4/19/190871.png      Brazil   \n",
       "3  https://cdn.sofifa.org/players/4/19/193080.png       Spain   \n",
       "4  https://cdn.sofifa.org/players/4/19/192985.png     Belgium   \n",
       "\n",
       "                                  Flag  Overall  Potential  \\\n",
       "0  https://cdn.sofifa.org/flags/52.png       94         94   \n",
       "1  https://cdn.sofifa.org/flags/38.png       94         94   \n",
       "2  https://cdn.sofifa.org/flags/54.png       92         93   \n",
       "3  https://cdn.sofifa.org/flags/45.png       91         93   \n",
       "4   https://cdn.sofifa.org/flags/7.png       91         92   \n",
       "\n",
       "                  Club                                     Club Logo    Value  \\\n",
       "0         FC Barcelona  https://cdn.sofifa.org/teams/2/light/241.png  €110.5M   \n",
       "1             Juventus   https://cdn.sofifa.org/teams/2/light/45.png     €77M   \n",
       "2  Paris Saint-Germain   https://cdn.sofifa.org/teams/2/light/73.png  €118.5M   \n",
       "3    Manchester United   https://cdn.sofifa.org/teams/2/light/11.png     €72M   \n",
       "4      Manchester City   https://cdn.sofifa.org/teams/2/light/10.png    €102M   \n",
       "\n",
       "    Wage  Special Preferred Foot  International Reputation  Weak Foot  \\\n",
       "0  €565K     2202           Left                       5.0        4.0   \n",
       "1  €405K     2228          Right                       5.0        4.0   \n",
       "2  €290K     2143          Right                       5.0        5.0   \n",
       "3  €260K     1471          Right                       4.0        3.0   \n",
       "4  €355K     2281          Right                       4.0        5.0   \n",
       "\n",
       "   Skill Moves       Work Rate   Body Type Real Face Position  Jersey Number  \\\n",
       "0          4.0  Medium/ Medium       Messi       Yes       RF           10.0   \n",
       "1          5.0       High/ Low  C. Ronaldo       Yes       ST            7.0   \n",
       "2          5.0    High/ Medium      Neymar       Yes       LW           10.0   \n",
       "3          1.0  Medium/ Medium        Lean       Yes       GK            1.0   \n",
       "4          4.0      High/ High      Normal       Yes      RCM            7.0   \n",
       "\n",
       "         Joined Loaned From Contract Valid Until Height  Weight    LS    ST  \\\n",
       "0   Jul 1, 2004         NaN                 2021    5'7  159lbs  88+2  88+2   \n",
       "1  Jul 10, 2018         NaN                 2022    6'2  183lbs  91+3  91+3   \n",
       "2   Aug 3, 2017         NaN                 2022    5'9  150lbs  84+3  84+3   \n",
       "3   Jul 1, 2011         NaN                 2020    6'4  168lbs   NaN   NaN   \n",
       "4  Aug 30, 2015         NaN                 2023   5'11  154lbs  82+3  82+3   \n",
       "\n",
       "     RS    LW    LF    CF    RF    RW   LAM   CAM   RAM    LM   LCM    CM  \\\n",
       "0  88+2  92+2  93+2  93+2  93+2  92+2  93+2  93+2  93+2  91+2  84+2  84+2   \n",
       "1  91+3  89+3  90+3  90+3  90+3  89+3  88+3  88+3  88+3  88+3  81+3  81+3   \n",
       "2  84+3  89+3  89+3  89+3  89+3  89+3  89+3  89+3  89+3  88+3  81+3  81+3   \n",
       "3   NaN   NaN   NaN   NaN   NaN   NaN   NaN   NaN   NaN   NaN   NaN   NaN   \n",
       "4  82+3  87+3  87+3  87+3  87+3  87+3  88+3  88+3  88+3  88+3  87+3  87+3   \n",
       "\n",
       "    RCM    RM   LWB   LDM   CDM   RDM   RWB    LB   LCB    CB   RCB    RB  \\\n",
       "0  84+2  91+2  64+2  61+2  61+2  61+2  64+2  59+2  47+2  47+2  47+2  59+2   \n",
       "1  81+3  88+3  65+3  61+3  61+3  61+3  65+3  61+3  53+3  53+3  53+3  61+3   \n",
       "2  81+3  88+3  65+3  60+3  60+3  60+3  65+3  60+3  47+3  47+3  47+3  60+3   \n",
       "3   NaN   NaN   NaN   NaN   NaN   NaN   NaN   NaN   NaN   NaN   NaN   NaN   \n",
       "4  87+3  88+3  77+3  77+3  77+3  77+3  77+3  73+3  66+3  66+3  66+3  73+3   \n",
       "\n",
       "   Crossing  Finishing  HeadingAccuracy  ShortPassing  Volleys  Dribbling  \\\n",
       "0      84.0       95.0             70.0          90.0     86.0       97.0   \n",
       "1      84.0       94.0             89.0          81.0     87.0       88.0   \n",
       "2      79.0       87.0             62.0          84.0     84.0       96.0   \n",
       "3      17.0       13.0             21.0          50.0     13.0       18.0   \n",
       "4      93.0       82.0             55.0          92.0     82.0       86.0   \n",
       "\n",
       "   Curve  FKAccuracy  LongPassing  BallControl  Acceleration  SprintSpeed  \\\n",
       "0   93.0        94.0         87.0         96.0          91.0         86.0   \n",
       "1   81.0        76.0         77.0         94.0          89.0         91.0   \n",
       "2   88.0        87.0         78.0         95.0          94.0         90.0   \n",
       "3   21.0        19.0         51.0         42.0          57.0         58.0   \n",
       "4   85.0        83.0         91.0         91.0          78.0         76.0   \n",
       "\n",
       "   Agility  Reactions  Balance  ShotPower  Jumping  Stamina  Strength  \\\n",
       "0     91.0       95.0     95.0       85.0     68.0     72.0      59.0   \n",
       "1     87.0       96.0     70.0       95.0     95.0     88.0      79.0   \n",
       "2     96.0       94.0     84.0       80.0     61.0     81.0      49.0   \n",
       "3     60.0       90.0     43.0       31.0     67.0     43.0      64.0   \n",
       "4     79.0       91.0     77.0       91.0     63.0     90.0      75.0   \n",
       "\n",
       "   LongShots  Aggression  Interceptions  Positioning  Vision  Penalties  \\\n",
       "0       94.0        48.0           22.0         94.0    94.0       75.0   \n",
       "1       93.0        63.0           29.0         95.0    82.0       85.0   \n",
       "2       82.0        56.0           36.0         89.0    87.0       81.0   \n",
       "3       12.0        38.0           30.0         12.0    68.0       40.0   \n",
       "4       91.0        76.0           61.0         87.0    94.0       79.0   \n",
       "\n",
       "   Composure  Marking  StandingTackle  SlidingTackle  GKDiving  GKHandling  \\\n",
       "0       96.0     33.0            28.0           26.0       6.0        11.0   \n",
       "1       95.0     28.0            31.0           23.0       7.0        11.0   \n",
       "2       94.0     27.0            24.0           33.0       9.0         9.0   \n",
       "3       68.0     15.0            21.0           13.0      90.0        85.0   \n",
       "4       88.0     68.0            58.0           51.0      15.0        13.0   \n",
       "\n",
       "   GKKicking  GKPositioning  GKReflexes Release Clause  \n",
       "0       15.0           14.0         8.0        €226.5M  \n",
       "1       15.0           14.0        11.0        €127.1M  \n",
       "2       15.0           15.0        11.0        €228.1M  \n",
       "3       87.0           88.0        94.0        €138.6M  \n",
       "4        5.0           10.0        13.0        €196.4M  "
      ]
     },
     "execution_count": 10,
     "metadata": {},
     "output_type": "execute_result"
    }
   ],
   "source": [
    "df_train.head()"
   ]
  },
  {
   "cell_type": "code",
   "execution_count": null,
   "metadata": {
    "scrolled": false
   },
   "outputs": [],
   "source": [
    "df_train['Special'] = (df_train['Preferred Foot'] > 0.1).astype(np.int8)\n",
    "drop_cols = ['Photo', 'ID', 'Flag', 'Club Logo', 'Value', 'Special'] \n",
    "\n",
    "df_train.replace([np.inf, -np.inf], np.nan, inplace=True)\n",
    "df_train.fillna(-1, inplace=True)\n",
    "\n",
    "X = df_train.drop(drop_cols, 1)\n",
    "y = df_train['Special']"
   ]
  },
  {
   "cell_type": "code",
   "execution_count": 48,
   "metadata": {},
   "outputs": [],
   "source": [
    "from sklearn.model_selection import train_test_split\n",
    "\n",
    "seed = 0xEDA # 16-ричный инт\n",
    "X_train, X_test, y_train, y_test = train_test_split(X, y, test_size=0.3, shuffle=True, random_state=seed)"
   ]
  },
  {
   "cell_type": "code",
   "execution_count": 49,
   "metadata": {},
   "outputs": [
    {
     "data": {
      "text/plain": [
       "(0.02832857142857143, 0.029566666666666668)"
      ]
     },
     "execution_count": 49,
     "metadata": {},
     "output_type": "execute_result"
    }
   ],
   "source": [
    "y_train.mean(), y_test.mean()"
   ]
  },
  {
   "cell_type": "code",
   "execution_count": 50,
   "metadata": {},
   "outputs": [
    {
     "name": "stderr",
     "output_type": "stream",
     "text": [
      "/home/basil/mlenv/lib/python3.8/site-packages/sklearn/linear_model/_logistic.py:763: ConvergenceWarning: lbfgs failed to converge (status=1):\n",
      "STOP: TOTAL NO. of ITERATIONS REACHED LIMIT.\n",
      "\n",
      "Increase the number of iterations (max_iter) or scale the data as shown in:\n",
      "    https://scikit-learn.org/stable/modules/preprocessing.html\n",
      "Please also refer to the documentation for alternative solver options:\n",
      "    https://scikit-learn.org/stable/modules/linear_model.html#logistic-regression\n",
      "  n_iter_i = _check_optimize_result(\n"
     ]
    },
    {
     "data": {
      "text/plain": [
       "LogisticRegression()"
      ]
     },
     "execution_count": 50,
     "metadata": {},
     "output_type": "execute_result"
    }
   ],
   "source": [
    "lr = LogisticRegression(max_iter=100)\n",
    "lr.fit(X_train, y_train)"
   ]
  },
  {
   "cell_type": "code",
   "execution_count": 51,
   "metadata": {},
   "outputs": [],
   "source": [
    "predictions = lr.predict(X_test)\n",
    "probability_predictions = lr.predict_proba(X_test)"
   ]
  },
  {
   "cell_type": "code",
   "execution_count": 38,
   "metadata": {},
   "outputs": [
    {
     "data": {
      "text/plain": [
       "array([0, 0, 0, ..., 0, 0, 0], dtype=int8)"
      ]
     },
     "execution_count": 38,
     "metadata": {},
     "output_type": "execute_result"
    }
   ],
   "source": [
    "predictions"
   ]
  },
  {
   "cell_type": "code",
   "execution_count": 39,
   "metadata": {},
   "outputs": [
    {
     "data": {
      "text/plain": [
       "array([[9.99367140e-01, 6.32860187e-04],\n",
       "       [9.99777279e-01, 2.22720702e-04],\n",
       "       [9.71086526e-01, 2.89134742e-02],\n",
       "       ...,\n",
       "       [9.99952139e-01, 4.78608171e-05],\n",
       "       [9.99243026e-01, 7.56974034e-04],\n",
       "       [9.99905987e-01, 9.40134378e-05]])"
      ]
     },
     "execution_count": 39,
     "metadata": {},
     "output_type": "execute_result"
    }
   ],
   "source": [
    "# здесь вероятности за 0 и 1 классы (или за большее число классов)\n",
    "probability_predictions"
   ]
  },
  {
   "cell_type": "code",
   "execution_count": 26,
   "metadata": {},
   "outputs": [
    {
     "data": {
      "text/plain": [
       "0.9382333333333334"
      ]
     },
     "execution_count": 26,
     "metadata": {},
     "output_type": "execute_result"
    }
   ],
   "source": [
    "metrics.accuracy_score(y_test, predictions)"
   ]
  },
  {
   "cell_type": "code",
   "execution_count": 13,
   "metadata": {},
   "outputs": [
    {
     "data": {
      "text/plain": [
       "array([[15122,  1164],\n",
       "       [ 1611, 12103]])"
      ]
     },
     "execution_count": 13,
     "metadata": {},
     "output_type": "execute_result"
    }
   ],
   "source": [
    "metrics.confusion_matrix(y_test, predictions)"
   ]
  },
  {
   "cell_type": "code",
   "execution_count": 24,
   "metadata": {},
   "outputs": [
    {
     "name": "stdout",
     "output_type": "stream",
     "text": [
      "              precision    recall  f1-score   support\n",
      "\n",
      "           0       0.90      0.93      0.92     16286\n",
      "           1       0.91      0.88      0.90     13714\n",
      "\n",
      "    accuracy                           0.91     30000\n",
      "   macro avg       0.91      0.91      0.91     30000\n",
      "weighted avg       0.91      0.91      0.91     30000\n",
      "\n"
     ]
    }
   ],
   "source": [
    "print(metrics.classification_report(y_test, predictions))"
   ]
  },
  {
   "cell_type": "code",
   "execution_count": 28,
   "metadata": {},
   "outputs": [
    {
     "data": {
      "text/plain": [
       "0.6158273381294964"
      ]
     },
     "execution_count": 28,
     "metadata": {},
     "output_type": "execute_result"
    }
   ],
   "source": [
    "metrics.precision_score(y_test, predictions, pos_label=1)"
   ]
  },
  {
   "cell_type": "code",
   "execution_count": 29,
   "metadata": {},
   "outputs": [
    {
     "data": {
      "text/plain": [
       "0.21251241310824232"
      ]
     },
     "execution_count": 29,
     "metadata": {},
     "output_type": "execute_result"
    }
   ],
   "source": [
    "metrics.recall_score(y_test, predictions)"
   ]
  },
  {
   "cell_type": "code",
   "execution_count": 16,
   "metadata": {},
   "outputs": [
    {
     "data": {
      "text/plain": [
       "0.8971498461880584"
      ]
     },
     "execution_count": 16,
     "metadata": {},
     "output_type": "execute_result"
    }
   ],
   "source": [
    "metrics.f1_score(y_test, predictions)"
   ]
  },
  {
   "cell_type": "code",
   "execution_count": 41,
   "metadata": {},
   "outputs": [
    {
     "data": {
      "text/plain": [
       "0.9233872432319421"
      ]
     },
     "execution_count": 41,
     "metadata": {},
     "output_type": "execute_result"
    }
   ],
   "source": [
    "metrics.roc_auc_score(y_test, probability_predictions[:,1])"
   ]
  },
  {
   "cell_type": "markdown",
   "metadata": {},
   "source": [
    "## ROC"
   ]
  },
  {
   "cell_type": "code",
   "execution_count": 52,
   "metadata": {},
   "outputs": [
    {
     "data": {
      "text/plain": [
       "<matplotlib.legend.Legend at 0x7f64673b56a0>"
      ]
     },
     "execution_count": 52,
     "metadata": {},
     "output_type": "execute_result"
    },
    {
     "data": {
      "image/png": "[encoded data removed]",
      "text/plain": [
       "<Figure size 720x504 with 1 Axes>"
      ]
     },
     "metadata": {
      "needs_background": "light"
     },
     "output_type": "display_data"
    }
   ],
   "source": [
    "fpr, tpr, _ = metrics.roc_curve(y_test, probability_predictions[:,1])\n",
    "\n",
    "pylab.plot(fpr, tpr, label = 'linear model')\n",
    "pylab.plot([0, 1], [0, 1], '--', color = 'grey', label = 'random')\n",
    "pylab.xlim([-0.05, 1.05])\n",
    "pylab.ylim([-0.05, 1.05])\n",
    "pylab.xlabel('FP')\n",
    "pylab.ylabel('TP')\n",
    "pylab.title('ROC')\n",
    "pylab.legend(loc = \"lower right\")"
   ]
  },
  {
   "cell_type": "markdown",
   "metadata": {},
   "source": [
    "## PR"
   ]
  },
  {
   "cell_type": "code",
   "execution_count": 53,
   "metadata": {},
   "outputs": [
    {
     "data": {
      "image/png": "[encoded data removed]",
      "text/plain": [
       "<Figure size 720x504 with 1 Axes>"
      ]
     },
     "metadata": {
      "needs_background": "light"
     },
     "output_type": "display_data"
    }
   ],
   "source": [
    "precision, recall, _ = metrics.precision_recall_curve(y_test, probability_predictions[:,1])\n",
    "disp = metrics.PrecisionRecallDisplay(precision=precision, recall=recall)\n",
    "disp.plot()\n",
    "\n",
    "plt.show()"
   ]
  }
 ],
 "metadata": {
  "kernelspec": {
   "display_name": "Python 3",
   "language": "python",
   "name": "python3"
  },
  "language_info": {
   "codemirror_mode": {
    "name": "ipython",
    "version": 3
   },
   "file_extension": ".py",
   "mimetype": "text/x-python",
   "name": "python",
   "nbconvert_exporter": "python",
   "pygments_lexer": "ipython3",
   "version": "3.8.5"
  }
 },
 "nbformat": 4,
 "nbformat_minor": 5
}
